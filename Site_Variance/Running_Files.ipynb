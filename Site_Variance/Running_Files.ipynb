{
 "cells": [
  {
   "cell_type": "code",
   "execution_count": 52,
   "metadata": {
    "collapsed": false
   },
   "outputs": [
    {
     "name": "stdout",
     "output_type": "stream",
     "text": [
      "(64, 64, 32)\n"
     ]
    }
   ],
   "source": [
    "# this module will smooth the data with a Guassian kernel and then save the\n",
    "# all subjects' data as an array. This array will then be processed through  \n",
    "# PCA function for dimensionality reduction. This PCA output will contain an \n",
    "# array with N elements for each subject's mean functional image (containing\n",
    "# white matter, grey matter, and CSF; and normalized to MNI space). This \n",
    "# PC array will be used as the input of the SVM to test for site classification.    \n",
    "\n",
    "#import modules\n",
    "import os\n",
    "import numpy as np\n",
    "import matplotlib\n",
    "import nibabel as nib\n",
    "import nilearn\n",
    "from nibabel.testing import data_path\n",
    "from nilearn import plotting\n",
    "from nilearn.image import smooth_img\n",
    "from numpy import ndarray\n",
    "\n",
    "#from numpy import mean,cov,double,cumsum,dot,linalg,array,rank\n",
    "#from pylab import plot,subplot,axis,stem,show,figure\n",
    "\n",
    "#directory of the NifTi files that contain average functional data\n",
    "root = '/om/group/saxelab/OpenAutism/Analysis/bold_reference_images/'\n",
    "\n",
    "#loading an example NIfTI\n",
    "test_file = os.path.join(data_path, root + 'SAXtasti205_biomo_run_001_bold_ref.nii.gz')\n",
    "img = nib.load(test_file)\n",
    "\n",
    "#this is the same Gaussian kernel used by Martinez\n",
    "img = nilearn.image.smooth_img(img, fwhm = 3) \n",
    "data = img.get_data()\n",
    "\n",
    "#image details\n",
    "#print(img)\n",
    "print(data.shape)\n",
    "#data.max()\n",
    "#data.min()\n",
    "\n",
    "#Save smoothed image\n",
    "display = plotting.plot_stat_map(img)  \n",
    "display.savefig('smoothed_brain.png')\n",
    "display.close()  \n",
    "\n",
    "# info_header = img.header\n",
    "# print(info_header) \n",
    "\n",
    "#np.set_printoptions(precision=2, suppress=True)\n"
   ]
  },
  {
   "cell_type": "code",
   "execution_count": null,
   "metadata": {
    "collapsed": true
   },
   "outputs": [],
   "source": []
  }
 ],
 "metadata": {
  "kernelspec": {
   "display_name": "Python 2",
   "language": "python",
   "name": "python2"
  },
  "language_info": {
   "codemirror_mode": {
    "name": "ipython",
    "version": 2
   },
   "file_extension": ".py",
   "mimetype": "text/x-python",
   "name": "python",
   "nbconvert_exporter": "python",
   "pygments_lexer": "ipython2",
   "version": "2.7.11"
  }
 },
 "nbformat": 4,
 "nbformat_minor": 0
}
