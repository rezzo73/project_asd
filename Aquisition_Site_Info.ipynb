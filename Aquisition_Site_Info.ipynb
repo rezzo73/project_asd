{
 "cells": [
  {
   "cell_type": "code",
   "execution_count": 27,
   "metadata": {
    "collapsed": false,
    "scrolled": true
   },
   "outputs": [
    {
     "name": "stdout",
     "output_type": "stream",
     "text": [
      "Num of Dicom files for this subject = 277\n",
      "Info from file = 2233-0008-0001.dcm\n",
      "\n",
      "\n",
      "Num of Dicom files for this subject = 6183\n",
      "Info from file = 62000-42-1.dcm\n",
      "\n",
      "\n",
      "Num of Dicom files for this subject = 7851\n",
      "Info from file = 765000-19-1.dcm\n",
      "\n",
      "\n",
      "Num of Dicom files for this subject = 7851\n",
      "Info from file = 765000-31-1.dcm\n",
      "\n",
      "\n",
      "Num of Dicom files for this subject = 6545\n",
      "Info from file = 765000-24-1.dcm\n",
      "\n",
      "\n",
      "Num of Dicom files for this subject = 6545\n",
      "Info from file = 765000-26-1.dcm\n",
      "\n",
      "\n",
      "Num of Dicom files for this subject = 6545\n",
      "Info from file = 765000-28-1.dcm\n",
      "\n",
      "\n"
     ]
    }
   ],
   "source": [
    "import dicom\n",
    "import os\n",
    "import codecs\n",
    "\n",
    "#initializing locations\n",
    "site_index = ['BER','GAB','EIB','TAS']\n",
    "\n",
    "for sites in site_index:\n",
    "\n",
    "    #find pathway to DICOM files\n",
    "    #note: this file belongs to 1 subject--assumes subjects of 1 exp have the same parameters\n",
    "    if sites is 'BER':\n",
    "        pathway = \"/om/group/saxelab/OpenAutism/data/Berlin/SAX_SCOTTFM_05/dicom/\"\n",
    "        file_name = ['2233-0008-0001.dcm']\n",
    "    elif sites is 'GAB':\n",
    "        pathway = '/om/group/saxelab/OpenAutism/data/Gablab/SAX_CBTNT_17/dicom/'\n",
    "        file_name = ['62000-42-1.dcm']\n",
    "    elif sites is 'EIB':\n",
    "        pathway = '/om/group/saxelab/OpenAutism/data/EIB/SAX_EIB_05/dicom/'\n",
    "        file_name = ['765000-19-1.dcm', '765000-31-1.dcm']\n",
    "    elif sites is 'TAS':\n",
    "        pathway = \"/om/group/saxelab/OpenAutism/data/TASTI2/SAX_tasti2_32/dicom/\"\n",
    "        file_name = ['765000-24-1.dcm','765000-26-1.dcm','765000-28-1.dcm']\n",
    "\n",
    "    for files in range(len(file_name)):\n",
    "        #get list of dicom files\n",
    "        Subj_list = os.listdir(pathway)\n",
    "        print(\"Num of Dicom files for this subject = \" + str(len(Subj_list)))\n",
    "\n",
    "        #obtaining DICOM file header info of first dicom file in folder\n",
    "        print(\"Info from file = \" + file_name[files])\n",
    "        print('\\n')\n",
    "        test_string = (pathway + file_name[files])\n",
    "\n",
    "        #read these image files & print\n",
    "        subject = dicom.read_file(test_string, force=True)    \n",
    "        TagNames = list(subject.dir())\n",
    "\n",
    "        save_pathway = str('/om/user/rezzo/Aquisition_Site_txt/'+sites+'/')    \n",
    "        with codecs.open(save_pathway +'Dicom_'+ file_name[files]+'_info.txt','w') as f:\n",
    "            for key in subject.dir():        \n",
    "                value = getattr(subject, key, '')\n",
    "                if type(value) is dicom.UID.UID or key == \"PixelData\":\n",
    "                    continue\n",
    "                elif key == \"AcquisitionDate\":\n",
    "                    continue\n",
    "                elif key == \"AcquisitionNumber\":\n",
    "                    continue\n",
    "                elif key == \"AccessionNumber\":\n",
    "                    continue\n",
    "                    \n",
    "                ##to print to console\n",
    "                #print \"%s: %s\" % (key, value)\n",
    "\n",
    "                u1 = str(unicode(str(key), errors='ignore')).encode('utf8')\n",
    "                u2 = str(unicode(str(value), errors='ignore')).encode('utf8')\n",
    "                print>>f, u1+\":\"+ u2\n"
   ]
  },
  {
   "cell_type": "code",
   "execution_count": null,
   "metadata": {
    "collapsed": true
   },
   "outputs": [],
   "source": []
  }
 ],
 "metadata": {
  "kernelspec": {
   "display_name": "Python 2",
   "language": "python",
   "name": "python2"
  },
  "language_info": {
   "codemirror_mode": {
    "name": "ipython",
    "version": 2
   },
   "file_extension": ".py",
   "mimetype": "text/x-python",
   "name": "python",
   "nbconvert_exporter": "python",
   "pygments_lexer": "ipython2",
   "version": "2.7.11"
  }
 },
 "nbformat": 4,
 "nbformat_minor": 0
}
