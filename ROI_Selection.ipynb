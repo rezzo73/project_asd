{
 "cells": [
  {
   "cell_type": "code",
   "execution_count": 104,
   "metadata": {
    "collapsed": false
   },
   "outputs": [],
   "source": [
    "# This script uses functional roi niftis (converted from.img files and scaled in FSL to match\n",
    "# size of each dimension). These parcels are used as binary masks on a t-statistical map output\n",
    "# from first-level analysis. \n",
    "# This yields a hypothesis space for each roi (same location for every \n",
    "# subject). These roi's are taken from the Kanwisher website with the exception of DMFPC \n",
    "# (from saxelab).\n",
    "\n",
    "# The top 50 voxels are then selected from these hypothesis space based on highest t-statistic\n",
    "# (no threshold, and no constraint on contiguity).\n",
    "\n",
    "# written by rania e. (rezzo@bu.edu)"
   ]
  },
  {
   "cell_type": "code",
   "execution_count": null,
   "metadata": {
    "collapsed": true
   },
   "outputs": [],
   "source": [
    "#####PATHWAYS\n",
    "\n",
    "roi_size = 50; # of voxels you want in ROI\n",
    "\n",
    "#import modules\n",
    "import os\n",
    "import numpy as np\n",
    "import matplotlib\n",
    "import nibabel as nib\n",
    "import nilearn\n",
    "from nibabel.testing import data_path\n",
    "from nilearn import plotting\n",
    "#from nilearn.image import smooth_img\n",
    "from numpy import ndarray\n",
    "import matplotlib.pyplot as plt\n",
    "\n",
    "## load sample first level analysis output (t-map)\n",
    "T_image = os.path.join('/om/group/saxelab/OpenAutism/Analysis/sample_first_level_output/tstat1.nii.gz')\n",
    "t_image = nib.load(T_image)\n",
    "# hyp_space_data = t_image.get_data()\n",
    "t_data = np.array(t_image.dataobj)\n",
    "\n",
    "## load sample level analysis output (con map)\n",
    "# (do this later)\n",
    "\n",
    "## where ROIs are located\n",
    "root = '/om/group/saxelab/OpenAutism/Analysis/ROIs/'\n",
    "\n",
    "#DMPFC\n",
    "DMPFC = os.path.join(data_path, root + 'DMPFC_xyz_FSL_space.nii.gz')\n",
    "Dmpfc = nib.load(DMPFC)\n",
    "dmpfc_data = np.array(Dmpfc.dataobj)\n",
    "dmpfc = Dmpfc.get_data()\n",
    "\n",
    "#left FFA\n",
    "LFFA = os.path.join(data_path, root + 'lFFA_FSL_space.nii.gz')\n",
    "lffa = nib.load(LFFA)\n",
    "lffa_data = np.array(lffa.dataobj)\n",
    "lffa = lffa.get_data()\n",
    "\n",
    "#left FFA\n",
    "RFFA = os.path.join(data_path, root + 'rFFA_FSL_space.nii.gz')\n",
    "rffa = nib.load(RFFA)\n",
    "rffa_data = np.array(rffa.dataobj)\n",
    "\n",
    "#left STS\n",
    "LSTS = os.path.join(data_path, root + 'lSTS_FSL_space.nii.gz')\n",
    "lsts = nib.load(LSTS)\n",
    "lsts_data = np.array(lsts.dataobj)\n",
    "\n",
    "#right STS\n",
    "RSTS = os.path.join(data_path, root + 'rSTS_FSL_space.nii.gz')\n",
    "rsts = nib.load(RSTS)\n",
    "rsts_data = np.array(rsts.dataobj)"
   ]
  },
  {
   "cell_type": "code",
   "execution_count": 225,
   "metadata": {
    "collapsed": false
   },
   "outputs": [
    {
     "name": "stdout",
     "output_type": "stream",
     "text": [
      "-1.91675\n",
      "nan\n",
      "nan\n",
      "nan\n",
      "7.39536571503\n"
     ]
    }
   ],
   "source": [
    "# multiply the t-image by the hypothesis space\n",
    "\n",
    "# make all values in binary mask = 0 to NAN\n",
    "# do this before: otherwise negative zeros can effect later calculations.\n",
    "dmpfc_data[dmpfc_data == 0] = 'nan'\n",
    "\n",
    "#multiply t-image by dmfpc roi mask;\n",
    "dmpfc_hs = t_data*dmpfc_data\n",
    "\n",
    "#convert to float\n",
    "dmpfc_hs = dmpfc_hs.astype('float')\n"
   ]
  },
  {
   "cell_type": "code",
   "execution_count": 278,
   "metadata": {
    "collapsed": false
   },
   "outputs": [
    {
     "name": "stdout",
     "output_type": "stream",
     "text": [
      "[ 7.39536572  6.48620081  6.48173809  6.34243298  6.29057932  5.78280926\n",
      "  5.57839966  5.53596497  5.51747227  5.45706892  5.27595377  5.24354553\n",
      "  5.22681904  5.171628    5.15757513  5.13953495  5.09517813  5.02283382\n",
      "  4.99731302  4.99517918  4.96020031  4.93413067  4.89783669  4.79863405\n",
      "  4.7853322   4.78332901  4.72948027  4.67820406  4.6113019   4.59164429\n",
      "  4.56104708  4.5559783   4.48251152  4.45821857  4.37883902  4.35100603\n",
      "  4.29260492  4.2741971   4.2685957   4.26255369  4.26122332  4.25771856\n",
      "  4.20185089  4.18948317  4.10872793  4.0561552   4.0029211   3.98500657\n",
      "  3.96539283  3.92076421]\n",
      "(array([43, 37, 37, 37, 43, 43, 42, 35, 42, 43, 36, 37, 38, 39, 34, 40, 38,\n",
      "       38, 42, 36, 43, 44, 43, 44, 36, 56, 44, 43, 56, 35, 37, 45, 41, 36,\n",
      "       42, 42, 43, 45, 44, 36, 36, 35, 38, 41, 41, 37, 38, 42, 36, 36]), array([85, 94, 93, 93, 85, 85, 85, 91, 85, 84, 92, 91, 93, 92, 91, 92, 93,\n",
      "       92, 85, 93, 87, 85, 86, 84, 91, 87, 84, 86, 90, 92, 93, 84, 85, 89,\n",
      "       84, 86, 84, 85, 85, 91, 91, 91, 92, 86, 86, 90, 91, 84, 89, 94]), array([53, 52, 53, 52, 52, 54, 53, 51, 52, 53, 54, 49, 52, 52, 51, 50, 53,\n",
      "       52, 54, 52, 51, 53, 53, 54, 54, 51, 55, 52, 55, 51, 51, 55, 51, 51,\n",
      "       52, 52, 54, 55, 54, 55, 51, 54, 49, 52, 51, 49, 49, 53, 50, 51]))\n",
      "7.39536571503\n"
     ]
    }
   ],
   "source": [
    "#### find top N t-values within this space to define ROI\n",
    "\n",
    "#print highest values in the hypothesis space (t-values of the ROI)\n",
    "# ! dont forget to later add error msg to hyp spaces that are < n\n",
    "[values, indices] = nan_largestval(dmpfc_hs, roi_size)\n",
    "\n",
    "#N highest t-values\n",
    "print(values) \n",
    "\n",
    "#N indices of the highest t-values (each array x, arra y, array z)\n",
    "print(indices) \n",
    "\n",
    "#sanity check\n",
    "print(dmpfc_hs[43,85,53])"
   ]
  },
  {
   "cell_type": "code",
   "execution_count": 276,
   "metadata": {
    "collapsed": false
   },
   "outputs": [],
   "source": [
    "# this works, but must add error msg for rois smaller that N (specificied voxels)\n",
    "# double check by plotting\n",
    "\n",
    "def nan_largestval(ary, n):\n",
    "    flat = ary.flatten()\n",
    "    values = -np.sort(-flat)# order from greatest to least -- nans at the end\n",
    "    idx = (-flat).argsort()[:n]\n",
    "    idx2 = np.unravel_index(idx, ary.shape)\n",
    "    return [values[0:n], idx2]"
   ]
  },
  {
   "cell_type": "code",
   "execution_count": 4,
   "metadata": {
    "collapsed": false
   },
   "outputs": [],
   "source": [
    "#plot (to test)\n",
    "\n",
    "def show_slices(slices):\n",
    "    \"\"\" Function to display row of image slices \"\"\"\n",
    "    fig, axes = plt.subplots(1, len(slices))\n",
    "    for i, slice in enumerate(slices):\n",
    "         axes[i].imshow(slice.T, cmap=\"gray\", origin=\"lower\")\n",
    "\n",
    "slice_0 = hyp_space_data[26, :, :]\n",
    "slice_1 = hyp_space_data[:, 30, :]\n",
    "slice_2 = hyp_space_data[:, :, 16]\n",
    "show_slices([slice_0, slice_1, slice_2])\n",
    "\n",
    "#nib.save(slice_0, os.path.join('build','test4d.nii.gz'))\n"
   ]
  },
  {
   "cell_type": "code",
   "execution_count": 5,
   "metadata": {
    "collapsed": true
   },
   "outputs": [],
   "source": [
    "show_slices(hyp_space_data)"
   ]
  },
  {
   "cell_type": "code",
   "execution_count": null,
   "metadata": {
    "collapsed": true
   },
   "outputs": [],
   "source": []
  }
 ],
 "metadata": {
  "kernelspec": {
   "display_name": "Python 2",
   "language": "python",
   "name": "python2"
  },
  "language_info": {
   "codemirror_mode": {
    "name": "ipython",
    "version": 2
   },
   "file_extension": ".py",
   "mimetype": "text/x-python",
   "name": "python",
   "nbconvert_exporter": "python",
   "pygments_lexer": "ipython2",
   "version": "2.7.11"
  }
 },
 "nbformat": 4,
 "nbformat_minor": 0
}
