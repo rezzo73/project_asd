{
 "cells": [
  {
   "cell_type": "code",
   "execution_count": 7,
   "metadata": {},
   "outputs": [
    {
     "ename": "ModuleNotFoundError",
     "evalue": "No module named 'dcmstack'",
     "output_type": "error",
     "traceback": [
      "\u001b[0;31m---------------------------------------------------------------------------\u001b[0m",
      "\u001b[0;31mModuleNotFoundError\u001b[0m                       Traceback (most recent call last)",
      "\u001b[0;32m<ipython-input-7-72ba2c698d0d>\u001b[0m in \u001b[0;36m<module>\u001b[0;34m()\u001b[0m\n\u001b[1;32m      4\u001b[0m \u001b[0;31m#Assumes subjects of 1 exp type generally have the same protocol info.\u001b[0m\u001b[0;34m\u001b[0m\u001b[0;34m\u001b[0m\u001b[0m\n\u001b[1;32m      5\u001b[0m \u001b[0;34m\u001b[0m\u001b[0m\n\u001b[0;32m----> 6\u001b[0;31m \u001b[0;32mimport\u001b[0m \u001b[0mdcmstack\u001b[0m\u001b[0;34m\u001b[0m\u001b[0m\n\u001b[0m\u001b[1;32m      7\u001b[0m \u001b[0;31m#import dicom\u001b[0m\u001b[0;34m\u001b[0m\u001b[0;34m\u001b[0m\u001b[0m\n\u001b[1;32m      8\u001b[0m \u001b[0;32mimport\u001b[0m \u001b[0mos\u001b[0m\u001b[0;34m\u001b[0m\u001b[0m\n",
      "\u001b[0;31mModuleNotFoundError\u001b[0m: No module named 'dcmstack'"
     ]
    }
   ],
   "source": [
    "#This code loops through each experiment type within each acquisition site \n",
    "#and returns the protocol info as a text file named after the dicom file. \n",
    "#For future additions, choose subject in middle of list.\n",
    "#Assumes subjects of 1 exp type generally have the same protocol info.\n",
    "\n",
    "import dcmstack\n",
    "#import dicom\n",
    "import os\n",
    "import codecs\n",
    "\n",
    "print(os.getcwd())\n",
    "\n",
    "#initializing locations\n",
    "site_index = ['BER'] #,'GAB','EIB','TAS']\n",
    "\n",
    "for sites in site_index:\n",
    "\n",
    "    #find pathway to DICOM files\n",
    "    if sites is 'BER':\n",
    "        pathway = \"/om/group/saxelab/OpenAutism/data/Berlin/SAX_SCOTTFM_05/dicom/\"\n",
    "        file_name = ['2233-0008-0001.dcm']\n",
    "    elif sites is 'GAB':\n",
    "        pathway = '/om/group/saxelab/OpenAutism/data/Gablab/SAX_CBTNT_17/dicom/'\n",
    "        file_name = ['62000-42-1.dcm']\n",
    "    elif sites is 'EIB':\n",
    "        pathway = '/om/group/saxelab/OpenAutism/data/EIB/SAX_EIB_05/dicom/'\n",
    "        file_name = ['765000-19-1.dcm', '765000-31-1.dcm']\n",
    "    elif sites is 'TAS':\n",
    "        pathway = \"/om/group/saxelab/OpenAutism/data/TASTI2/SAX_tasti2_32/dicom/\"\n",
    "        file_name = ['765000-24-1.dcm','765000-26-1.dcm','765000-28-1.dcm']\n",
    "\n",
    "    #save_pathway = str('/om/user/rezzo/Aquisition_Site_txt/'+sites+'/')    \n",
    "        \n",
    "    for files in range(len(file_name)):\n",
    "        #get list of dicom files\n",
    "        Subj_list = os.listdir(pathway)\n",
    "        \n",
    "        ##sanity check\n",
    "        #print(\"Num of Dicom files for this subject = \" + str(len(Subj_list)))\n",
    "        #print(\"Filename: \" + file_name[files])\n",
    "        \n",
    "        #obtaining DICOM file header info of first dicom file in folder\n",
    "        test_string = (pathway + file_name[files])\n",
    "\n",
    "        #read these image files & print\n",
    "        subject = dicom.read_file(test_string, force=True)    \n",
    "        TagNames = list(subject.dir())\n",
    "\n",
    "        for key in subject.dir():        \n",
    "            value = getattr(subject, key, '')\n",
    "            print (key, value)\n",
    "        \n",
    "#         with codecs.open(save_pathway +'Dicom_'+ file_name[files]+'_info.txt','w') as f:\n",
    "\n",
    "#                 if type(value) is dicom.UID.UID or key == \"PixelData\":\n",
    "#                     continue\n",
    "#                 elif key == \"AcquisitionDate\":\n",
    "#                     continue\n",
    "#                 elif key == \"AcquisitionNumber\":\n",
    "#                     continue\n",
    "#                 elif key == \"AccessionNumber\":\n",
    "#                     continue\n",
    "                    \n",
    "                ##to print to console\n",
    "                #print \"%s: %s\" % (key, value)\n",
    "\n",
    "#                 u1 = str(unicode(str(key), errors='ignore')).encode('utf8')\n",
    "#                 u2 = str(unicode(str(value), errors='ignore')).encode('utf8')\n",
    "                \n",
    "#                 #save key and value in same line of text file\n",
    "#                 print>>f, u1+\":\"+ u2\n"
   ]
  },
  {
   "cell_type": "code",
   "execution_count": null,
   "metadata": {},
   "outputs": [],
   "source": []
  }
 ],
 "metadata": {
  "kernelspec": {
   "display_name": "Python 3",
   "language": "python",
   "name": "python3"
  },
  "language_info": {
   "codemirror_mode": {
    "name": "ipython",
    "version": 3
   },
   "file_extension": ".py",
   "mimetype": "text/x-python",
   "name": "python",
   "nbconvert_exporter": "python",
   "pygments_lexer": "ipython3",
   "version": "3.6.4"
  }
 },
 "nbformat": 4,
 "nbformat_minor": 2
}
